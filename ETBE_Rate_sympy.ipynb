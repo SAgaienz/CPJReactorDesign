{
 "metadata": {
  "language_info": {
   "codemirror_mode": {
    "name": "ipython",
    "version": 3
   },
   "file_extension": ".py",
   "mimetype": "text/x-python",
   "name": "python",
   "nbconvert_exporter": "python",
   "pygments_lexer": "ipython3",
   "version": "3.8.5-final"
  },
  "orig_nbformat": 2,
  "kernelspec": {
   "name": "Python 3.8.5 64-bit",
   "display_name": "Python 3.8.5 64-bit",
   "metadata": {
    "interpreter": {
     "hash": "767d51c1340bd893661ea55ea3124f6de3c7a262a8b4abca0554b478b1e2ff90"
    }
   }
  }
 },
 "nbformat": 4,
 "nbformat_minor": 2,
 "cells": [
  {
   "cell_type": "code",
   "execution_count": 1,
   "metadata": {},
   "outputs": [],
   "source": [
    "import sympy"
   ]
  },
  {
   "cell_type": "code",
   "execution_count": 2,
   "metadata": {},
   "outputs": [],
   "source": [
    "CIB, CEt, CETBE, B, D, F, K1, K2, k, L, Ke =  sympy.symbols('C_{IB}, C_{Et}, C_{ETBE}, B, D, F, K_1, K_2, k, L, K_{eq}')"
   ]
  },
  {
   "cell_type": "code",
   "execution_count": 12,
   "metadata": {},
   "outputs": [
    {
     "output_type": "execute_result",
     "data": {
      "text/plain": "-k*(2*B*C_{ETBE}**2*D + B*C_{ETBE}*C_{Et}**2*F - B*C_{ETBE}*C_{Et}*C_{IB}*K_{eq} + B*C_{ETBE}*C_{IB} + B*C_{ETBE}*K_2 - C_{ETBE}*C_{Et}*C_{IB}*D*K_{eq} + C_{ETBE}*C_{Et}*D + C_{ETBE}*D*K_1 - C_{Et}**3*C_{IB}*F*K_{eq} - C_{Et}**2*C_{IB}*K_{eq} - C_{Et}*C_{IB}**2*K_{eq} - C_{Et}*C_{IB}*K_1*K_{eq} - C_{Et}*C_{IB}*K_2*K_{eq})/(B*C_{ETBE}**2*D*K_{eq} + B*C_{ETBE}*C_{Et}**2*F*K_{eq} + B*C_{ETBE}*C_{IB}*K_{eq} + B*C_{ETBE}*K_2*K_{eq} + C_{ETBE}*C_{Et}*D*K_{eq} + C_{ETBE}*D*K_1*K_{eq} + C_{Et}**3*F*K_{eq} + C_{Et}**2*F*K_1*K_{eq} + C_{Et}*C_{IB}*K_{eq} + C_{Et}*K_2*K_{eq} + C_{IB}*K_1*K_{eq} + K_1*K_2*K_{eq})",
      "text/latex": "$\\displaystyle - \\frac{k \\left(2 B C_{ETBE}^{2} D + B C_{ETBE} C_{Et}^{2} F - B C_{ETBE} C_{Et} C_{IB} K_{eq} + B C_{ETBE} C_{IB} + B C_{ETBE} K_{2} - C_{ETBE} C_{Et} C_{IB} D K_{eq} + C_{ETBE} C_{Et} D + C_{ETBE} D K_{1} - C_{Et}^{3} C_{IB} F K_{eq} - C_{Et}^{2} C_{IB} K_{eq} - C_{Et} C_{IB}^{2} K_{eq} - C_{Et} C_{IB} K_{1} K_{eq} - C_{Et} C_{IB} K_{2} K_{eq}\\right)}{B C_{ETBE}^{2} D K_{eq} + B C_{ETBE} C_{Et}^{2} F K_{eq} + B C_{ETBE} C_{IB} K_{eq} + B C_{ETBE} K_{2} K_{eq} + C_{ETBE} C_{Et} D K_{eq} + C_{ETBE} D K_{1} K_{eq} + C_{Et}^{3} F K_{eq} + C_{Et}^{2} F K_{1} K_{eq} + C_{Et} C_{IB} K_{eq} + C_{Et} K_{2} K_{eq} + C_{IB} K_{1} K_{eq} + K_{1} K_{2} K_{eq}}$"
     },
     "metadata": {},
     "execution_count": 12
    }
   ],
   "source": [
    "term1 = (k*CIB*CEt - (k/Ke)*B*CETBE)/(CEt + B*CETBE + K1)\n",
    "term2 = (L*k*CIB*CEt - (L*k/Ke)*D*CETBE)/(CIB + F*CEt**2 + D*CETBE + K2)\n",
    "# term1.apart([CIB])\n",
    "(term1 + term2).ratsimp().apart(k)"
   ]
  },
  {
   "cell_type": "code",
   "execution_count": 5,
   "metadata": {},
   "outputs": [
    {
     "output_type": "execute_result",
     "data": {
      "text/plain": "(-B*C_{ETBE}*k/K_{eq} + C_{Et}*C_{IB}*k)/(B*C_{ETBE} + C_{Et} + K_1)",
      "text/latex": "$\\displaystyle \\frac{- \\frac{B C_{ETBE} k}{K_{eq}} + C_{Et} C_{IB} k}{B C_{ETBE} + C_{Et} + K_{1}}$"
     },
     "metadata": {},
     "execution_count": 5
    }
   ],
   "source": [
    "term1"
   ]
  },
  {
   "cell_type": "code",
   "execution_count": null,
   "metadata": {},
   "outputs": [],
   "source": []
  }
 ]
}