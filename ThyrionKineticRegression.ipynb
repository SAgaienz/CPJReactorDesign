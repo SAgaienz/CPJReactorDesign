{
 "cells": [
  {
   "cell_type": "code",
   "execution_count": 1,
   "metadata": {},
   "outputs": [],
   "source": [
    "import numpy as np \n",
    "from scipy.optimize import curve_fit\n",
    "from scipy.integrate import solve_ivp\n",
    "import matplotlib.pyplot as plt\n",
    "from ipywidgets import interact\n",
    "from thermo import Chemical, UNIFAC"
   ]
  },
  {
   "cell_type": "code",
   "execution_count": 2,
   "metadata": {},
   "outputs": [],
   "source": [
    "conc = {'t': [0, 450, 850, 1256, 1664, 1969, 2343, 2751, 3159, 3600, 4381, 5026, 5875, 6928] , \n",
    "    'IB':  [1.85,1.519, 1.25, 1, 0.835, 0.675, 0.55, 0.47, 0.4, 0.345, 0.325, 0.325, 0.325, 0.325], \n",
    "    'EtOH': [1.8, 1.425, 1.175, 0.98, 0.79, 0.635, 0.5, 0.435, 0.350, 0.29, 0.275, 0.275, 0.275, 0.275], \n",
    "    'ETBE': [0, 0.325, 0.6, 0.81, 1, 1.15, 1.29, 1.375, 1.43, 1.475, 1.519, 1.519, 1.519, 1.519] }\n",
    "\n",
    "def activity(T, P, Q, arr): # takes Fi (mol/s)\n",
    "    x_ls = [C/sum(arr) for C in arr]\n",
    "    UNIFAC_DG = fetch_UNIFAC_DG()\n",
    "    return [g*x for g, x, in zip(UNIFAC(T, x_ls, UNIFAC_DG), x_ls)]\n",
    "\n",
    "def fetch_UNIFAC_DG(full_name_list = ['isobutene', 'ethanol', 'ethyl tert-butyl ether'], update =False):\n",
    "    UNIFAC_DG = []\n",
    "    if update:\n",
    "        for name in full_name_list:\n",
    "            print(name)\n",
    "            a = Chemical(name, 200, 100).UNIFAC_groups\n",
    "            UNIFAC_DG.append(a)\n",
    "        return UNIFAC_DG\n",
    "    else:\n",
    "        return [{1: 2, 7: 1}, {1: 1, 2: 1, 14: 1}, {1: 4, 4: 1, 25: 1}]"
   ]
  },
  {
   "cell_type": "code",
   "execution_count": 3,
   "metadata": {},
   "outputs": [
    {
     "data": {
      "application/vnd.jupyter.widget-view+json": {
       "model_id": "8c834e4cb8be44d8bf4bb231d828c24a",
       "version_major": 2,
       "version_minor": 0
      },
      "text/plain": [
       "interactive(children=(FloatSlider(value=0.00047, description='k', max=1.0, min=1e-06, step=1e-07), FloatSlider…"
      ]
     },
     "metadata": {},
     "output_type": "display_data"
    },
    {
     "data": {
      "text/plain": [
       "<function __main__.Func(k=0.00047, Keq=12.5872, B=50, F=7, D=8)>"
      ]
     },
     "execution_count": 3,
     "metadata": {},
     "output_type": "execute_result"
    }
   ],
   "source": [
    "def Func(k =0.00047, Keq = 12.5872, B = 50, F= 7, D = 8):\n",
    "    tspan = np.linspace(0, conc['t'][-1], 100)\n",
    "    K1, K2 = 0,0\n",
    "    def rate(arr):\n",
    "        k2, Keq2 = k*20, Keq*20\n",
    "        CIB, CEtOH, CETBE = activity(343, 101.325, 1, arr)\n",
    "        return ((k*CIB*CEtOH - (k/Keq)*B*CETBE)/(CEtOH + B*CETBE + K1)) + ((k2*CIB*CEtOH - (k2/Keq2)*D*CETBE)/(CIB + F*CEtOH**2 + D*CETBE + K2))\n",
    "\n",
    "    def batch(t, arr):\n",
    "        r = rate(arr)\n",
    "        return [-r, -r, r]\n",
    "    y0 = [1.85, 1.8, 0]\n",
    "    ans = solve_ivp(batch, [0, tspan[-1]], y0, dense_output=True).sol(tspan)\n",
    "    plt.scatter(conc['t'], conc['IB'])\n",
    "    plt.scatter(conc['t'], conc['EtOH'] )\n",
    "    plt.scatter(conc['t'], conc['ETBE'])\n",
    "    plt.plot(tspan, ans[0])\n",
    "    plt.plot(tspan, ans[1])\n",
    "    plt.plot(tspan, ans[2])\n",
    "    plt.show()\n",
    "    print('k ='+ str(k) + ', Keq = '+ str(Keq) + ', B = '+ str(B) + ', F= '+  str(F) +', D = ' +str(D))\n",
    "#%%\n",
    "interact(Func, k = (1e-6, 1, 1e-7), Keq = (1e-20, 20, 1e-5) , B=(0,50,10), F=(5,25,1), D=(0,20,2))"
   ]
  },
  {
   "cell_type": "code",
   "execution_count": null,
   "metadata": {},
   "outputs": [],
   "source": []
  }
 ],
 "metadata": {
  "kernelspec": {
   "display_name": "Python 3.8.3 64-bit",
   "language": "python",
   "name": "python38364bite3d6fe246fb14a92a824762cb11d265a"
  },
  "language_info": {
   "codemirror_mode": {
    "name": "ipython",
    "version": 3
   },
   "file_extension": ".py",
   "mimetype": "text/x-python",
   "name": "python",
   "nbconvert_exporter": "python",
   "pygments_lexer": "ipython3",
   "version": "3.8.5"
  }
 },
 "nbformat": 4,
 "nbformat_minor": 4
}
