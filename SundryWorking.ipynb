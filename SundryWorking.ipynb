{
 "cells": [
  {
   "cell_type": "code",
   "execution_count": 1,
   "metadata": {},
   "outputs": [],
   "source": [
    "import numpy as np \n",
    "from scipy.optimize import curve_fit\n",
    "from scipy.integrate import solve_ivp\n",
    "import matplotlib.pyplot as plt\n",
    "from ipywidgets import interact\n",
    "from thermo import Chemical, UNIFAC"
   ]
  },
  {
   "cell_type": "code",
   "execution_count": 2,
   "metadata": {},
   "outputs": [],
   "source": [
    "\n",
    "conc = {'t': [0, 450, 850, 1256, 1664, 1969, 2343, 2751, 3159, 3600, 4381, 5026, 5875, 6928] , \n",
    "    'IB':  [1.85,1.519, 1.25, 1, 0.835, 0.675, 0.55, 0.47, 0.4, 0.345, 0.325, 0.325, 0.325, 0.325], \n",
    "    'EtOH': [1.8, 1.425, 1.175, 0.98, 0.79, 0.635, 0.5, 0.435, 0.350, 0.29, 0.275, 0.275, 0.275, 0.275], \n",
    "    'ETBE': [0, 0.325, 0.6, 0.81, 1, 1.15, 1.29, 1.375, 1.43, 1.475, 1.519, 1.519, 1.519, 1.519] }\n",
    "\n",
    "def activity(T, P, Q, arr): # takes Fi (mol/s)\n",
    "    x_ls = [C/sum(arr) for C in arr]\n",
    "    UNIFAC_DG = fetch_UNIFAC_DG()\n",
    "    return [g*x for g, x, in zip(UNIFAC(T, x_ls, UNIFAC_DG), x_ls)]\n",
    "\n",
    "def fetch_UNIFAC_DG(full_name_list = ['isobutene', 'ethanol', 'ethyl tert-butyl ether'], update =False):\n",
    "    UNIFAC_DG = []\n",
    "    if update:\n",
    "        for name in full_name_list:\n",
    "            print(name)\n",
    "            a = Chemical(name, 200, 100).UNIFAC_groups\n",
    "            UNIFAC_DG.append(a)\n",
    "        return UNIFAC_DG\n",
    "    else:\n",
    "        return [{1: 2, 7: 1}, {1: 1, 2: 1, 14: 1}, {1: 4, 4: 1, 25: 1}]"
   ]
  },
  {
   "cell_type": "code",
   "execution_count": 4,
   "metadata": {},
   "outputs": [
    {
     "output_type": "display_data",
     "data": {
      "text/plain": "interactive(children=(FloatSlider(value=0.00047, description='k', max=1.0, min=1e-06, step=1e-07), FloatSlider…",
      "application/vnd.jupyter.widget-view+json": {
       "version_major": 2,
       "version_minor": 0,
       "model_id": "65802b829cf34be48316a0eb037bafcc"
      }
     },
     "metadata": {}
    },
    {
     "output_type": "execute_result",
     "data": {
      "text/plain": "<function __main__.Func(k=0.00047, Keq=12.5872, B=50, F=7, D=8)>"
     },
     "metadata": {},
     "execution_count": 4
    }
   ],
   "source": [
    "def Func(k =0.00047, Keq = 12.5872, B = 50, F= 7, D = 8):\n",
    "    tspan = np.linspace(0, conc['t'][-1], 100)\n",
    "    K1, K2 = 0,0\n",
    "    def rate(arr):\n",
    "        k2, Keq2 = k*20, Keq*20\n",
    "        CIB, CEtOH, CETBE = activity(343, 101.325, 1, arr)\n",
    "        return ((k*CIB*CEtOH - (k/Keq)*B*CETBE)/(CEtOH + B*CETBE + K1)) + ((k2*CIB*CEtOH - (k2/Keq2)*D*CETBE)/(CIB + F*CEtOH**2 + D*CETBE + K2))\n",
    "\n",
    "    def batch(t, arr):\n",
    "        r = rate(arr)\n",
    "        return [-r, -r, r]\n",
    "    y0 = [1.85, 1.8, 0]\n",
    "    ans = solve_ivp(batch, [0, tspan[-1]], y0, dense_output=True).sol(tspan)\n",
    "    plt.scatter(conc['t'], conc['IB'])\n",
    "    plt.scatter(conc['t'], conc['EtOH'] )\n",
    "    plt.scatter(conc['t'], conc['ETBE'])\n",
    "    plt.plot(tspan, ans[0])\n",
    "    plt.plot(tspan, ans[1])\n",
    "    plt.plot(tspan, ans[2])\n",
    "    plt.show()\n",
    "    print('k ='+ str(k) + ', Keq = '+ str(Keq) + ', B = '+ str(B) + ', F= '+  str(F) +', D = ' +str(D))\n",
    "#%%\n",
    "interact(Func, k = (1e-6, 1, 1e-7), Keq = (1e-20, 20, 1e-5) , B=(0,50,10), F=(5,25,1), D=(0,20,2))"
   ]
  },
  {
   "cell_type": "code",
   "execution_count": 2,
   "metadata": {},
   "outputs": [],
   "source": [
    "from thermo import Chemical, UNIFAC\n",
    "def rate_french_ETBE(T, P, Q, arr, Ct = 4.7e-3): #Ct: mol/g cat, returns cat mass-based rate (mol/s.g)\n",
    "    aIB, aEt, aw, aTBA, aETBE, aDIB, aTRIB, a1B, aIBane = activity(T, P , Q, arr)\n",
    "    k, Keq = kf3(T), Ka(T)\n",
    "    # a_sig = Ct/(B_Et(T)*aEt + B_ETBE(T)*aETBE)\n",
    "    return k*(aIB*aEt*B_Et(T) - (aETBE/Keq))/(B_Et(T)*aEt + B_ETBE(T)*aETBE)\n",
    "def activity(T, P, Q, arr): # takes concentration\n",
    "    xIB, xEt, xw, xTBA, xETBE, xDIB, xTRIB, x1B, xIBane = x_ls = [C/sum(arr) for C in arr]\n",
    "    names = ['isobutene', 'ethyl alcohol', 'water', 'tert-butanol', 'ethyl tert-butyl ether', '2,4,4-trimethyl-2-pentene', '4,4-dimethyl-2-neopentyl-1-pentene', '1-butene', 'isobutane']\n",
    "    UNIFAC_DG = [{1: 2, 7: 1}, {1: 1, 2: 1, 14: 1}, {16: 1}, {1: 3, 4: 1, 14: 1}, {1: 4, 4: 1, 25: 1}, {1: 5, 4: 1, 8: 1}, {1: 6, 2: 2, 4: 2, 7: 1}, {1: 1, 2: 1, 5: 1}, {1: 3, 3: 1}]\n",
    "    # for name in names:\n",
    "    #     a = Chemical(name, T, P).UNIFAC_groups\n",
    "    #     UNIFAC_DG.append(a)\n",
    "    # return UNIFAC_DG\n",
    "    return [g*x for g, x, in zip(UNIFAC(T, x_ls, UNIFAC_DG), x_ls)]"
   ]
  },
  {
   "cell_type": "code",
   "execution_count": null,
   "metadata": {},
   "outputs": [],
   "source": []
  },
  {
   "cell_type": "code",
   "execution_count": 3,
   "metadata": {},
   "outputs": [],
   "source": [
    "def B_Et(T, TrKr = [358, 1.05e4], dH = -8.3e3, rho_b = 640.26): # 323<T<358\n",
    "    R = 8.314\n",
    "    Tr, Kr = TrKr\n",
    "    return Kr*np.exp((-dH/R)*((T**-1) - (Tr**-1)))/ rho_b\n",
    "\n",
    "def B_IB(T, TrKr = [340, 260], dH = -54.2e3, rho_b = 640.26):\n",
    "    R = 8.314\n",
    "    Tr, Kr = TrKr\n",
    "    return Kr*np.exp((-dH/R)*((T**-1) - (Tr**-1)))/ rho_b\n",
    "\n",
    "def B_ETBE(T, Tr = [313, 323], Kadr = [7.3e-7, 3.23]):\n",
    "    R = 8.314\n",
    "    dH = -R*np.log(Kadr[1]/Kadr[0])/((Tr[1]**-1)-(Tr[0]**-1))\n",
    "    Kr, Tr = Kadr[0], Tr[0]\n",
    "    return Kr*np.exp((-dH/R)*((T**-1) - (Tr**-1)))"
   ]
  },
  {
   "cell_type": "code",
   "execution_count": 4,
   "metadata": {},
   "outputs": [],
   "source": [
    "def MB(t, Cls):\n",
    "    rETBE = rate_french_ETBE(T0, P0, Q0, Cls)*W*1000\n",
    "    return [-rETBE, -rETBE, 0,0,rETBE,0,0,0,0]"
   ]
  },
  {
   "cell_type": "code",
   "execution_count": 14,
   "metadata": {},
   "outputs": [
    {
     "data": {
      "application/vnd.jupyter.widget-view+json": {
       "model_id": "37ad9c5e2694453d86e5b59e5d364c8c",
       "version_major": 2,
       "version_minor": 0
      },
      "text/plain": [
       "interactive(children=(IntSlider(value=1, description='Z1', max=100000, min=-100000, step=10000), IntSlider(val…"
      ]
     },
     "metadata": {},
     "output_type": "display_data"
    },
    {
     "data": {
      "text/plain": [
       "<function __main__.inte(Z1=1, Z2=1)>"
      ]
     },
     "execution_count": 14,
     "metadata": {},
     "output_type": "execute_result"
    }
   ],
   "source": [
    "def inte(Z1 = 1, Z2 = 1):\n",
    "    T = 333\n",
    "    Xer = 0.88\n",
    "    def TAp(T, Z1, Z2):\n",
    "        def BetaFunc(T):\n",
    "            return 20*np.exp(Z1*((T**-1) - 343**-1))\n",
    "\n",
    "        def FFunc(T):\n",
    "            return 85*np.exp(Z2*((T**-1) - 343**-1))\n",
    "\n",
    "        def Ka(T, Ka_r = 16.5, T_r =  343, dH = -44.3e3): # dH: kJ/kmol\n",
    "            R = 8.314\n",
    "            return Ka_r*np.exp((-dH/R)*((T**-1)- (T_r**-1)))\n",
    "\n",
    "        def kf3(T, k3_r = 4.7e-4, Tr = 343, Ea = 81.2e3): #k3_r: dm3/g.s, Ea: kJ/kmol\n",
    "            R = 8.314\n",
    "            k0 = k3_r/np.exp(-Ea/(R*Tr))\n",
    "            return k0*np.exp(-Ea/(R*T)) ## not verified yet...\n",
    "\n",
    "        def rate_french_ETBE_conc(T, P, Q, arr, Ct = 4.7e-3): #Ct: mol/g cat, returns cat mass-based rate (mol/s.g)\n",
    "            CIB, CEtOH, CETBE = arr\n",
    "            k, Keq = kf3(T), Ka(T)\n",
    "            α = 1/Keq\n",
    "            F = FFunc(T)\n",
    "            β = BetaFunc(T)\n",
    "            return k*(CIB - α*(CETBE/CEtOH) + ((β*(CIB*CEtOH - α*CETBE))/(CIB + F*(CEtOH**2) + CETBE)))\n",
    "\n",
    "        def batch(t, arr):\n",
    "            r = rate_french_ETBE_conc(T, 1 , 1 , arr)\n",
    "            return [-r, -r, r]\n",
    "\n",
    "        y0 = [1.85, 1.8, 0]\n",
    "        ans = solve_ivp(batch, [0, 150000], y0, dense_output=True)\n",
    "        Xspan = []\n",
    "        for CIB in ans['y'][0]:\n",
    "            Xspan.append((ans['y'][0][0] - CIB)/ans['y'][0][0])\n",
    "        return ans['t'], Xspan\n",
    "    plt.plot(*TAp(T, Z1, Z2))\n",
    "\n",
    "    plt.plot(*TAp(323, Z1, Z2))\n",
    "    plt.plot(*TAp(343, Z1, Z2))\n",
    "    plt.scatter(TAp(T, Z1, Z2)[0][-1], Xer)\n",
    "    plt.scatter(TAp(323, Z1, Z2)[0][-1], 0.91)\n",
    "#     plt.axis([199800, 200050, 0.8, 0.95])\n",
    "interact(inte, Z1 = (-100000, 100000, 10000), Z2 = (-100000, 100000, 10000))"
   ]
  },
  {
   "cell_type": "code",
   "execution_count": null,
   "metadata": {},
   "outputs": [],
   "source": []
  }
 ],
 "metadata": {
  "kernelspec": {
   "display_name": "Python 3.8.3 64-bit",
   "language": "python",
   "name": "python38364bite3d6fe246fb14a92a824762cb11d265a"
  },
  "language_info": {
   "codemirror_mode": {
    "name": "ipython",
    "version": 3
   },
   "file_extension": ".py",
   "mimetype": "text/x-python",
   "name": "python",
   "nbconvert_exporter": "python",
   "pygments_lexer": "ipython3",
   "version": "3.8.5-final"
  }
 },
 "nbformat": 4,
 "nbformat_minor": 4
}